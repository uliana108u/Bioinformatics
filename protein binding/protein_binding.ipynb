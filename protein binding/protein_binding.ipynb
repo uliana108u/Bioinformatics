{
  "nbformat": 4,
  "nbformat_minor": 0,
  "metadata": {
    "colab": {
      "provenance": []
    },
    "kernelspec": {
      "name": "python3",
      "display_name": "Python 3"
    }
  },
  "cells": [
    {
      "cell_type": "code",
      "metadata": {
        "id": "sIPCFO_Q5WMW",
        "outputId": "339d981b-06c1-417c-fa3c-fdba854e2b24",
        "colab": {
          "base_uri": "https://localhost:8080/",
          "height": 72
        }
      },
      "source": [
        "\n",
        "import os\n",
        "import numpy as np\n",
        "import random\n",
        "import matplotlib.pyplot as plt\n",
        "\n",
        "import keras\n",
        "import tensorflow as tf\n",
        "\n",
        "# Import keras modules here\n",
        "from keras.utils import np_utils\n",
        "from keras.layers import Input, Flatten, Dense, Activation, MaxPooling2D,Reshape, Conv2D, Dropout\n",
        "from keras.callbacks import EarlyStopping, ModelCheckpoint\n",
        "\n",
        "\n",
        "\n",
        "# import my google drive\n",
        "from google.colab import drive\n",
        "drive.mount('/content/gdrive')\n",
        "\n",
        "# read fasta files  \n",
        "fasta_file_path='gdrive/My Drive/data sample/'\n",
        "rbp_name = 'ELAVL1'\n",
        "print('list of files', os.listdir(fasta_file_path))\n",
        "\n"
      ],
      "execution_count": null,
      "outputs": [
        {
          "output_type": "stream",
          "text": [
            "Mounted at /content/gdrive\n",
            "list of files ['ALKBH5_Baltz2012.test.positives.fasta', 'ALKBH5_Baltz2012.test_negatives.fasta', 'CLIPSEQ_ELAVL1.test.negatives.fasta', 'ALKBH5_Baltz2012.train.negatives.fasta', 'CLIPSEQ_ELAVL1.train.negatives.fasta', 'CLIPSEQ_ELAVL1.test.positives.fasta', 'ALKBH5_Baltz2012.train.positives.fasta', 'CLIPSEQ_ELAVL1.train.positives.fasta']\n"
          ],
          "name": "stdout"
        }
      ]
    },
    {
      "cell_type": "markdown",
      "metadata": {
        "id": "qOAg9dwTQ3rm"
      },
      "source": [
        "## **Loading training set**\n"
      ]
    },
    {
      "cell_type": "code",
      "metadata": {
        "id": "YhDMZnPVopE0",
        "outputId": "f2432dbd-3bd8-4937-ec7e-03c0b2f96dee",
        "colab": {
          "base_uri": "https://localhost:8080/",
          "height": 52
        }
      },
      "source": [
        "# loading training set\n",
        "train_fasta = list()\n",
        "train_label = list()\n",
        "for single_file in [x for x in os.listdir(fasta_file_path) if rbp_name in x and 'train' in x]:\n",
        "  print('Processing file...', single_file)\n",
        "  with open(fasta_file_path + single_file) as f:\n",
        "    for line in f.readlines():\n",
        "      # get fasta sequence\n",
        "      if '>' in line:\n",
        "        continue\n",
        "      else:\n",
        "        train_fasta.append(line.strip())\n",
        "      # get positive negative label\n",
        "      if 'positives' in single_file:\n",
        "        train_label.append(1)\n",
        "      else:\n",
        "        train_label.append(0)\n",
        "     \n",
        "\n"
      ],
      "execution_count": null,
      "outputs": [
        {
          "output_type": "stream",
          "text": [
            "Processing file... CLIPSEQ_ELAVL1.train.negatives.fasta\n",
            "Processing file... CLIPSEQ_ELAVL1.train.positives.fasta\n"
          ],
          "name": "stdout"
        }
      ]
    },
    {
      "cell_type": "markdown",
      "metadata": {
        "id": "kCj_KopkRQns"
      },
      "source": [
        "**Converting sequence file to one-hot encoding representation**"
      ]
    },
    {
      "cell_type": "code",
      "metadata": {
        "id": "d369SKj6oySl"
      },
      "source": [
        "\n",
        "# function: fasta to onehot representation\n",
        "def convert2onehot(sequence_list):\n",
        "  map = {\n",
        "      'A':[1,0,0,0],\n",
        "      'U':[0,1,0,0],\n",
        "      'T':[0,1,0,0],\n",
        "      'G':[0,0,1,0],\n",
        "      'C':[0,0,0,1]\n",
        "  }\n",
        "  \n",
        "  onehot = []\n",
        "  for single_sequence in sequence_list:\n",
        "    single_onehot = []\n",
        "    for x in single_sequence:\n",
        "      single_onehot.append(map[x.upper()])\n",
        "    onehot.append(single_onehot)\n",
        "    \n",
        "  return np.asarray(onehot, dtype=np.float32)\n",
        "\n",
        "data_input = convert2onehot(train_fasta)\n",
        "data_label = keras.utils.to_categorical(train_label, 2)\n"
      ],
      "execution_count": null,
      "outputs": []
    },
    {
      "cell_type": "markdown",
      "metadata": {
        "id": "ntcgZTe-RbBZ"
      },
      "source": [
        " **Splitting training and validation dataset from raw dataset (training:validation=8:2)**"
      ]
    },
    {
      "cell_type": "code",
      "metadata": {
        "id": "eGzlYjx-o32j",
        "outputId": "668412b9-b2c8-4389-fea9-a7ac1d96d8e6",
        "colab": {
          "base_uri": "https://localhost:8080/",
          "height": 52
        }
      },
      "source": [
        "# split training set into train set and validation set\n",
        "# random shuffling of training data\n",
        "\n",
        "from sklearn.model_selection import train_test_split\n",
        "\n",
        "#split training and validation dataset from raw dataset (training:validation=8:2)\n",
        "train_input, validation_input, train_label, validation_label = train_test_split(data_input, data_label, test_size = 0.2)\n",
        "\n",
        "print('Dataset preparation done... train_input, train_label, validation_input, validation_label')\n",
        "print('Size of each set...', train_input.shape, train_label.shape, validation_input.shape, validation_label.shape)\n",
        "\n"
      ],
      "execution_count": null,
      "outputs": [
        {
          "output_type": "stream",
          "text": [
            "Dataset preparation done... train_input, train_label, validation_input, validation_label\n",
            "Size of each set... (13240, 200, 4) (13240, 2) (3310, 200, 4) (3310, 2)\n"
          ],
          "name": "stdout"
        }
      ]
    },
    {
      "cell_type": "code",
      "metadata": {
        "id": "F38VJANLBsiw",
        "outputId": "23b47c21-649c-4fb6-ee32-c6a169397601",
        "colab": {
          "base_uri": "https://localhost:8080/",
          "height": 397
        }
      },
      "source": [
        "# model building\n",
        "\n",
        "\n",
        "from tensorflow.keras.layers import Input, Conv2D, MaxPooling2D, Reshape, Flatten, Dense, Dropout\n",
        "input = Input(shape=(200, 4))\n",
        "input2 = Reshape((200, 4, 1))(input)\n",
        "hidden = Conv2D(filters=32, kernel_size=(3,3), strides=(1,1), padding='valid', activation='relu')(input2)\n",
        "hidden = MaxPooling2D((2,2))(hidden)\n",
        "hidden = Dropout(rate=0.3)(hidden)\n",
        "hidden = Flatten()(hidden)\n",
        "output = Dense(2, activation='softmax')(hidden)\n",
        "\n",
        "model = tf.keras.Model(inputs=input, outputs=output)\n",
        "model.summary()\n",
        "\n",
        "\n",
        "\n",
        "\n"
      ],
      "execution_count": null,
      "outputs": [
        {
          "output_type": "stream",
          "text": [
            "Model: \"model_51\"\n",
            "_________________________________________________________________\n",
            "Layer (type)                 Output Shape              Param #   \n",
            "=================================================================\n",
            "input_52 (InputLayer)        [(None, 200, 4)]          0         \n",
            "_________________________________________________________________\n",
            "reshape_51 (Reshape)         (None, 200, 4, 1)         0         \n",
            "_________________________________________________________________\n",
            "conv2d_51 (Conv2D)           (None, 198, 2, 32)        320       \n",
            "_________________________________________________________________\n",
            "max_pooling2d_51 (MaxPooling (None, 99, 1, 32)         0         \n",
            "_________________________________________________________________\n",
            "dropout_50 (Dropout)         (None, 99, 1, 32)         0         \n",
            "_________________________________________________________________\n",
            "flatten_50 (Flatten)         (None, 3168)              0         \n",
            "_________________________________________________________________\n",
            "dense_50 (Dense)             (None, 2)                 6338      \n",
            "=================================================================\n",
            "Total params: 6,658\n",
            "Trainable params: 6,658\n",
            "Non-trainable params: 0\n",
            "_________________________________________________________________\n"
          ],
          "name": "stdout"
        }
      ]
    },
    {
      "cell_type": "code",
      "metadata": {
        "id": "E5a8octRSD1K",
        "colab": {
          "base_uri": "https://localhost:8080/",
          "height": 484
        },
        "outputId": "c533365c-c7c9-4d98-d760-d077468c6922"
      },
      "source": [
        "# model training\n",
        "\n",
        "model.compile(optimizer='adam', loss='categorical_crossentropy', metrics=['accuracy'])\n",
        "earlystop= EarlyStopping(monitor='val_loss', mode='min', verbose=1, patience=5)\n",
        "modelcheck = ModelCheckpoint('best_model_ELAVL1.h5', monitor='val_acc', mode='max', save_best_only=True, verbose=1)\n",
        "train_input.shape\n",
        "hist_ELAVL1 = model.fit(train_input, train_label, validation_data=(validation_input,validation_label), batch_size=32, epochs=30, verbose=0, callbacks=[earlystop, modelcheck])\n",
        "\n"
      ],
      "execution_count": null,
      "outputs": [
        {
          "output_type": "stream",
          "text": [
            "\n",
            "Epoch 00001: val_acc improved from -inf to 0.90211, saving model to best_model_ELAVL1.h5\n",
            "\n",
            "Epoch 00002: val_acc improved from 0.90211 to 0.91843, saving model to best_model_ELAVL1.h5\n",
            "\n",
            "Epoch 00003: val_acc improved from 0.91843 to 0.92296, saving model to best_model_ELAVL1.h5\n",
            "\n",
            "Epoch 00004: val_acc did not improve from 0.92296\n",
            "\n",
            "Epoch 00005: val_acc improved from 0.92296 to 0.92326, saving model to best_model_ELAVL1.h5\n",
            "\n",
            "Epoch 00006: val_acc did not improve from 0.92326\n",
            "\n",
            "Epoch 00007: val_acc did not improve from 0.92326\n",
            "\n",
            "Epoch 00008: val_acc improved from 0.92326 to 0.92538, saving model to best_model_ELAVL1.h5\n",
            "\n",
            "Epoch 00009: val_acc improved from 0.92538 to 0.92689, saving model to best_model_ELAVL1.h5\n",
            "\n",
            "Epoch 00010: val_acc did not improve from 0.92689\n",
            "\n",
            "Epoch 00011: val_acc did not improve from 0.92689\n",
            "\n",
            "Epoch 00012: val_acc did not improve from 0.92689\n",
            "\n",
            "Epoch 00013: val_acc did not improve from 0.92689\n",
            "Epoch 00013: early stopping\n"
          ],
          "name": "stdout"
        }
      ]
    },
    {
      "cell_type": "markdown",
      "metadata": {
        "id": "6mzAES1MTVZ2"
      },
      "source": [
        "**Finally, we draw AUC for our test set**"
      ]
    },
    {
      "cell_type": "code",
      "metadata": {
        "id": "ePAZBDWQRTbr",
        "colab": {
          "base_uri": "https://localhost:8080/",
          "height": 329
        },
        "outputId": "4a5ca21d-eedf-46c5-b270-bbc1c7378fe4"
      },
      "source": [
        "\n",
        "\n",
        "from sklearn.metrics import classification_report, roc_curve, auc, roc_auc_score\n",
        "\n",
        "predict_model = model.predict(validation_input, verbose=1)   #make the prediction using predict function\n",
        "evaluate_model=model.evaluate(validation_input,validation_label)     #evaluate the model using test set\"\n",
        "AUC=roc_auc_score(validation_label.argmax(axis=1), predict_model.argmax(axis=1)) \n",
        "#converting the labels and answers to 1s and 0s to match the input shape of roc_auc_score function\n",
        "\n",
        "fpr, tpr, thresholds = roc_curve(validation_label.argmax(axis=1), predict_model.argmax(axis=1))\n",
        "auc_ = auc(fpr, tpr)\n",
        "plt.figure(1)\n",
        "plt.plot([0, 1], [0, 1], 'k--')\n",
        "plt.plot(fpr, tpr, label='AR (area = {:.3f})'.format(auc_))\n",
        "plt.xlabel('False positive rate')\n",
        "plt.ylabel('True positive rate')\n",
        "plt.title('ROC curve')\n",
        "plt.legend(loc='best')\n",
        "plt.show()\n",
        "\n",
        "\n"
      ],
      "execution_count": null,
      "outputs": [
        {
          "output_type": "stream",
          "text": [
            "3310/3310 [==============================] - 1s 237us/sample\n",
            "3310/3310 [==============================] - 0s 142us/sample - loss: 0.2114 - acc: 0.9245\n"
          ],
          "name": "stdout"
        },
        {
          "output_type": "display_data",
          "data": {
            "image/png": "[encoded data removed]",
            "text/plain": [
              "<Figure size 432x288 with 1 Axes>"
            ]
          },
          "metadata": {
            "tags": []
          }
        }
      ]
    },
    {
      "cell_type": "markdown",
      "metadata": {
        "id": "wNUw-POUThVL"
      },
      "source": [
        "**Now we repeat everything again for ALKBH5 binding protein!**\n",
        "\n",
        "---\n",
        "\n"
      ]
    },
    {
      "cell_type": "code",
      "metadata": {
        "id": "eihAVCgxFBrq",
        "colab": {
          "base_uri": "https://localhost:8080/",
          "height": 106
        },
        "outputId": "966fe808-ff47-4165-f850-d496a37dd321"
      },
      "source": [
        "test_fasta = list()\n",
        "test_label = list()\n",
        "rbp_name = 'ALKBH5'\n",
        "print('list of files', os.listdir(fasta_file_path))\n",
        "\n",
        "            \n",
        "for single_file in [x for x in os.listdir(fasta_file_path) if rbp_name in x and 'test' in x]:\n",
        "  print('Processing file...', single_file)\n",
        "  with open(fasta_file_path + single_file) as f:\n",
        "    for line in f.readlines():\n",
        "      # get fasta sequence\n",
        "      if '>' in line:\n",
        "        continue\n",
        "      else:\n",
        "        test_fasta.append(line.strip())\n",
        "      # get positive negative label\n",
        "      if 'positives' in single_file:\n",
        "        test_label.append(1)\n",
        "      else:\n",
        "        test_label.append(0)\n",
        "        \n",
        "\n",
        "test_input = convert2onehot(test_fasta)\n",
        "test_label = keras.utils.to_categorical(test_label, 2)\n",
        "print('TEST set prepared...', test_input.shape, test_label.shape)\n",
        "\n",
        "\n",
        "\n"
      ],
      "execution_count": null,
      "outputs": [
        {
          "output_type": "stream",
          "text": [
            "list of files ['ALKBH5_Baltz2012.test.positives.fasta', 'ALKBH5_Baltz2012.test_negatives.fasta', 'CLIPSEQ_ELAVL1.test.negatives.fasta', 'ALKBH5_Baltz2012.train.negatives.fasta', 'CLIPSEQ_ELAVL1.train.negatives.fasta', 'CLIPSEQ_ELAVL1.test.positives.fasta', 'ALKBH5_Baltz2012.train.positives.fasta', 'CLIPSEQ_ELAVL1.train.positives.fasta']\n",
            "Processing file... ALKBH5_Baltz2012.test.positives.fasta\n",
            "Processing file... ALKBH5_Baltz2012.test_negatives.fasta\n",
            "TEST set prepared... (262, 200, 4) (262, 2)\n"
          ],
          "name": "stdout"
        }
      ]
    },
    {
      "cell_type": "code",
      "metadata": {
        "id": "bDUPVA1vJSoi",
        "colab": {
          "base_uri": "https://localhost:8080/",
          "height": 52
        },
        "outputId": "6c4402f9-f3d7-4baa-c062-7f314df69983"
      },
      "source": [
        "# splitting training set into training set and validation set\n",
        "# random shuffling of training data\n",
        "\n",
        "from sklearn.model_selection import train_test_split\n",
        "\n",
        "#splitting train and validation dataset from raw dataset (training:validation=8:2)\n",
        "train_input, validation_input, train_label, validation_label = train_test_split(test_input, test_label, test_size = 0.2)\n",
        "\n",
        "print('Dataset preparation done... train_input, train_label, validation_input, validation_label')\n",
        "print('Size of each set...', train_input.shape, train_label.shape, validation_input.shape, validation_label.shape)\n",
        "\n"
      ],
      "execution_count": null,
      "outputs": [
        {
          "output_type": "stream",
          "text": [
            "Dataset preparation done... train_input, train_label, validation_input, validation_label\n",
            "Size of each set... (209, 200, 4) (209, 2) (53, 200, 4) (53, 2)\n"
          ],
          "name": "stdout"
        }
      ]
    },
    {
      "cell_type": "code",
      "metadata": {
        "id": "oGnTHf3DJTIF",
        "colab": {
          "base_uri": "https://localhost:8080/",
          "height": 397
        },
        "outputId": "3636eeb6-536c-473f-f447-cfa75ca6737a"
      },
      "source": [
        "# model building\n",
        "\n",
        "\n",
        "from tensorflow.keras.layers import Input, Conv2D, MaxPooling2D, Reshape, Flatten, Dense, Dropout\n",
        "input = Input(shape=(200, 4))\n",
        "input2 = Reshape((200, 4, 1))(input)\n",
        "hidden = Conv2D(filters=64, kernel_size=(3,3), strides=(1,1), padding='valid', activation='relu')(input2)\n",
        "hidden = MaxPooling2D((2,2))(hidden)\n",
        "hidden = Dropout(rate=0.5)(hidden)\n",
        "hidden = Flatten()(hidden)\n",
        "output = Dense(2, activation='softmax')(hidden)\n",
        "\n",
        "model = tf.keras.Model(inputs=input, outputs=output)\n",
        "model.summary()\n"
      ],
      "execution_count": null,
      "outputs": [
        {
          "output_type": "stream",
          "text": [
            "Model: \"model_63\"\n",
            "_________________________________________________________________\n",
            "Layer (type)                 Output Shape              Param #   \n",
            "=================================================================\n",
            "input_64 (InputLayer)        [(None, 200, 4)]          0         \n",
            "_________________________________________________________________\n",
            "reshape_63 (Reshape)         (None, 200, 4, 1)         0         \n",
            "_________________________________________________________________\n",
            "conv2d_63 (Conv2D)           (None, 198, 2, 64)        640       \n",
            "_________________________________________________________________\n",
            "max_pooling2d_63 (MaxPooling (None, 99, 1, 64)         0         \n",
            "_________________________________________________________________\n",
            "dropout_62 (Dropout)         (None, 99, 1, 64)         0         \n",
            "_________________________________________________________________\n",
            "flatten_62 (Flatten)         (None, 6336)              0         \n",
            "_________________________________________________________________\n",
            "dense_62 (Dense)             (None, 2)                 12674     \n",
            "=================================================================\n",
            "Total params: 13,314\n",
            "Trainable params: 13,314\n",
            "Non-trainable params: 0\n",
            "_________________________________________________________________\n"
          ],
          "name": "stdout"
        }
      ]
    },
    {
      "cell_type": "code",
      "metadata": {
        "id": "xVqyta5vJTmV",
        "colab": {
          "base_uri": "https://localhost:8080/",
          "height": 276
        },
        "outputId": "c6bb0bb9-0138-4bc7-b208-2b618a7b9f20"
      },
      "source": [
        "\n",
        "# model training\n",
        "\n",
        "model.compile(optimizer='adam', loss='categorical_crossentropy', metrics=['accuracy'])\n",
        "earlystop= EarlyStopping(monitor='val_loss', mode='min', verbose=1, patience=5)\n",
        "modelcheck = ModelCheckpoint('best_model_ALKBH5.h5', monitor='val_acc', mode='max', save_best_only=True, verbose=1)\n",
        "train_input.shape\n",
        "hist_ALKBH5 = model.fit(train_input, train_label, validation_data=(validation_input,validation_label), batch_size=20, epochs=10, verbose=0, callbacks=[earlystop, modelcheck])\n",
        "\n"
      ],
      "execution_count": null,
      "outputs": [
        {
          "output_type": "stream",
          "text": [
            "\n",
            "Epoch 00001: val_acc improved from -inf to 0.37736, saving model to best_model_ALKBH5.h5\n",
            "\n",
            "Epoch 00002: val_acc improved from 0.37736 to 0.62264, saving model to best_model_ALKBH5.h5\n",
            "\n",
            "Epoch 00003: val_acc did not improve from 0.62264\n",
            "\n",
            "Epoch 00004: val_acc did not improve from 0.62264\n",
            "\n",
            "Epoch 00005: val_acc did not improve from 0.62264\n",
            "\n",
            "Epoch 00006: val_acc did not improve from 0.62264\n",
            "\n",
            "Epoch 00007: val_acc did not improve from 0.62264\n",
            "Epoch 00007: early stopping\n"
          ],
          "name": "stdout"
        }
      ]
    },
    {
      "cell_type": "code",
      "metadata": {
        "id": "i03h8KVE5q5M",
        "colab": {
          "base_uri": "https://localhost:8080/",
          "height": 34
        },
        "outputId": "d6a863b8-2e21-4ba3-da5a-e69026583d79"
      },
      "source": [
        "from google.colab import drive\n",
        "drive.mount('/content/drive')"
      ],
      "execution_count": null,
      "outputs": [
        {
          "output_type": "stream",
          "text": [
            "Mounted at /content/drive\n"
          ],
          "name": "stdout"
        }
      ]
    },
    {
      "cell_type": "code",
      "metadata": {
        "id": "Vd0mgH4wFpPa",
        "colab": {
          "base_uri": "https://localhost:8080/",
          "height": 329
        },
        "outputId": "787ff701-9b93-4256-906e-87159ea804de"
      },
      "source": [
        "# calculating AUC score for test sets\n",
        "\n",
        "predict_model = model.predict(validation_input, verbose=1)   #make the prediction using predict function\n",
        "evaluate_model=model.evaluate(validation_input,validation_label)     #evaluate the model using test set\"\n",
        "AUC=roc_auc_score(validation_label.argmax(axis=1), predict_model.argmax(axis=1)) \n",
        "#converting the labels and answers to 1s and 0s to match the input shape of roc_auc_score function\n",
        "\n",
        "fpr, tpr, thresholds = roc_curve(validation_label.argmax(axis=1), predict_model.argmax(axis=1))\n",
        "auc_ = auc(fpr, tpr)\n",
        "plt.figure(1)\n",
        "plt.plot([0, 1], [0, 1], 'k--')\n",
        "plt.plot(fpr, tpr, label='AR (area = {:.3f})'.format(auc_))\n",
        "plt.xlabel('False positive rate')\n",
        "plt.ylabel('True positive rate')\n",
        "plt.title('ROC curve')\n",
        "plt.legend(loc='best')\n",
        "plt.show()\n"
      ],
      "execution_count": null,
      "outputs": [
        {
          "output_type": "stream",
          "text": [
            "53/53 [==============================] - 0s 9ms/sample\n",
            "53/53 [==============================] - 0s 316us/sample - loss: 0.6974 - acc: 0.5849\n"
          ],
          "name": "stdout"
        },
        {
          "output_type": "display_data",
          "data": {
            "image/png": "[encoded data removed]",
            "text/plain": [
              "<Figure size 432x288 with 1 Axes>"
            ]
          },
          "metadata": {
            "tags": []
          }
        }
      ]
    }
  ]
}